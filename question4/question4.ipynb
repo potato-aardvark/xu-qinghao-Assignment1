{
 "cells": [
  {
   "cell_type": "markdown",
   "metadata": {},
   "source": [
    "**Scene:**\n",
    "\n",
    "Its 3pm and your supervisor has just handed you their old Fortran77 code that they swear \"solved this problem in the 80s\" and \"is really smartly written and easy to follow\". After the meeting you take one look at the code and realize it doesn't. And it's not. \n",
    "\n",
    "But, you said you'd have results by the group meeting the following day, so lets see if we can understand what it is doing, fix it up, and get some results!\n",
    "\n",
    "$_{\\rm Also,\\ this\\ code\\ has\\ somehow\\ already\\ been\\ converted\\ into\\ python\\ 3.\\ who\\ knows}$\n",
    "\n",
    "\n",
    "\n",
    "\n"
   ]
  },
  {
   "cell_type": "code",
   "execution_count": null,
   "metadata": {},
   "outputs": [],
   "source": []
  },
  {
   "cell_type": "markdown",
   "metadata": {},
   "source": [
    "**In this question we will try to develop some smart coding practices, and try to improve upon some poorly written code.**\n",
    "\n",
    "You are provided with the following code in this workbook, \n",
    "which is both memory and computationally inefficient (and poorly commented)\n",
    "\n",
    "Your task is to speed the code up as much as possible, and to make it as memory efficient as possible.\n",
    "Also, you should comment \"important\" lines with what operations they seem to be performing\n",
    "\n",
    "Hints:\n",
    "\n",
    "**1.) Try to get rid of every single for loop (vectorize everything you can)**\n",
    "\n",
    "**2.) Get rid of duplicate memory allocation**\n",
    "\n",
    "> e.g. \n",
    "\n",
    "> array1 = np.zeros((10,10))\n",
    "\n",
    "> array2 = array1 * 2.0\n",
    "\n",
    "> array3 = array2**2 \n",
    "\n",
    "> Instead just use array1 = array1 * 2.0 ; array1 = array1**2, etc.\n",
    "\n",
    "\n",
    "**Marks will be based on:**\n",
    "\n",
    "1.) run time of your improved code compared to the original (0 for loops are needed)\n",
    "\n",
    "2.) memory usage of your code compared to the original\n",
    "\n",
    "3.) Documentation. Fix missing comments (hint: look for lines that start with \"###\"), and feel free to add additional ones if you feel they are necessary"
   ]
  },
  {
   "cell_type": "code",
   "execution_count": null,
   "metadata": {},
   "outputs": [],
   "source": []
  },
  {
   "cell_type": "markdown",
   "metadata": {},
   "source": [
    "**Lets first test some good coding practices here:**\n",
    "\n",
    "1.) **Never use for loops unless you have to - super slow! Vectorize everything**\n",
    "\n",
    "e.g.:"
   ]
  },
  {
   "cell_type": "code",
   "execution_count": 2,
   "metadata": {},
   "outputs": [
    {
     "name": "stdout",
     "output_type": "stream",
     "text": [
      "data created\n",
      "For loop: total = 24996531096970 in time = 168 seconds\n",
      "Vectorized: total = 24996531096970 in time = 0 seconds\n"
     ]
    }
   ],
   "source": [
    "# Make random data arrays\n",
    "\n",
    "import numpy as np\n",
    "import time\n",
    "\n",
    "N = 10000000\n",
    "A = np.arange(N)\n",
    "B = np.random.uniform(size=N)\n",
    "\n",
    "print(\"data created\")\n",
    "\n",
    "# test time to use for loop vs vectorized version\n",
    "\n",
    "# Bad Way\n",
    "start = time.time()\n",
    "total = 0\n",
    "for i in range(N):\n",
    "    total += A[i] * B[i]\n",
    "end = time.time()\n",
    "print(\"For loop: total = %d in time = %d seconds\"%(total, end-start))\n",
    "\n",
    "# Good Way\n",
    "start = time.time()\n",
    "total = np.sum(A*B)\n",
    "end = time.time()\n",
    "print(\"Vectorized: total = %d in time = %d seconds\"%(total, end-start))\n"
   ]
  },
  {
   "cell_type": "markdown",
   "metadata": {},
   "source": [
    "2.) **Don't convert lists to arrays/array to lists unless necessary for some reason**\n",
    "\n",
    "e.g.:\n"
   ]
  },
  {
   "cell_type": "code",
   "execution_count": 2,
   "metadata": {},
   "outputs": [
    {
     "name": "stdout",
     "output_type": "stream",
     "text": [
      "List/For loop: total = 25006489979015 in time = 54 seconds\n",
      "Array Vectorized: total = 25006489979015 in time = 1 seconds\n"
     ]
    }
   ],
   "source": [
    "N = 10000000\n",
    "\n",
    "# Bad Way\n",
    "start = time.time()\n",
    "A = []\n",
    "for i in range(N):\n",
    "    A_i = np.random.uniform()\n",
    "    A.append(A_i)\n",
    "\n",
    "A = np.array(A)\n",
    "end = time.time()\n",
    "print(\"List/For loop: total = %d in time = %d seconds\"%(total, end-start))\n",
    "\n",
    "\n",
    "# Good Way\n",
    "start = time.time()\n",
    "A = np.random.uniform(size=N)\n",
    "end = time.time()\n",
    "print(\"Array Vectorized: total = %d in time = %d seconds\"%(total, end-start))\n"
   ]
  },
  {
   "cell_type": "markdown",
   "metadata": {},
   "source": []
  },
  {
   "cell_type": "markdown",
   "metadata": {},
   "source": [
    "3.) **Don't duplicate arrays unless you actually need the multiple versions**\n",
    "\n",
    "e.g.:"
   ]
  },
  {
   "cell_type": "code",
   "execution_count": 3,
   "metadata": {},
   "outputs": [],
   "source": [
    "A = np.random.uniform(size=(100,100))\n",
    "B = A*2\n",
    "C = B**2\n",
    "\n",
    "# you've now tripled the memory usage to calculate C from A. Unless you actually need A and B later, don't do this. \n",
    "# Just do:\n",
    "A = np.random.uniform(size=(100,100))\n",
    "A = A*2\n",
    "A = A**2\n",
    "\n",
    "# or \n",
    "\n",
    "A = np.random.uniform(size=(100,100))\n",
    "A *= 2\n",
    "A = A**2\n",
    "\n",
    "# or whatever"
   ]
  },
  {
   "cell_type": "code",
   "execution_count": null,
   "metadata": {},
   "outputs": [],
   "source": []
  },
  {
   "cell_type": "markdown",
   "metadata": {},
   "source": [
    "**Code Outline**\n",
    "The code you will be working with is a mockup of a three dimensional \"large scale structure survey\", or a \"mock\" observation. Using this code we want to populate our field of view with the flux from a number (Nhalo) of dark matter halos. \n",
    "\n",
    "Each of these halos will be given:\n",
    "\n",
    "1.) a randomly drawn position in (ra [deg], dec [deg], distance [Mpc (comoving)])\n",
    "\n",
    "2.) a randomly drawn Mass in [Msun], drawn from an analytical Halo Mass Function (HMF) \n",
    "\n",
    "\n",
    "For each of these halos you will calculate a Luminosity, based on the given Mass-to-Luminosity relation mass_to_luminosity(mass). \n",
    "\n",
    "You will then bin the luminosity of these halos into a three dimensional map/array of size (npix_x, npix_y, npix_z) which represents (ra, dec, distance - aka a three dimensional data cube, where each voxel (3D pixel) represents the luminosity coming from that region of space.)\n",
    "\n",
    "You will then perform a simple \"analysis\" of this map "
   ]
  },
  {
   "cell_type": "markdown",
   "metadata": {},
   "source": [
    "**first, a bit on what a \"dark matter halo mass function\" is:**\n",
    "\n",
    "The Halo Mass function describes the number of dark matter halos of a given mass M\n",
    "\n",
    "For this example we will use a simplified version of the form HMF = M * np.exp(-M/Mstar), where M is the mass of a halo\n",
    "\n",
    "How do we randomly draw halo mass values according to a distribution? **This is a very common type of excercise for reserch/job interviews.**\n",
    "\n",
    "Probability distrution function PDF: \n",
    "\n",
    "$f(x)= A x exp(-x/b)$\n",
    "\n",
    "where $A = \\int_0^{inf} f(x) dx$\n",
    "\n",
    "and b is given\n",
    "\n",
    "Cumlative distribution function CDF: \n",
    "\n",
    "$ F(x) = \\int_0^x f(x)dx $\n",
    "\n",
    "so\n",
    "\n",
    "$F(x) = Ab(b-(x+b)exp(-x/b))$\n",
    "\n",
    "Cannot invert this analytically, so must do numerically.\n",
    "\n",
    "With the inverted CDF, CDFinv, we can simply draw a uniform random number in the range (0,1), plug this into the CDFinv, and it will return samples drawn from any PDF that we desire!\n"
   ]
  },
  {
   "cell_type": "code",
   "execution_count": null,
   "metadata": {},
   "outputs": [],
   "source": [
    "import numpy as np\n",
    "import matplotlib.pyplot as plt\n",
    "import scipy.integrate as integrate\n",
    "import scipy.special as special\n",
    "from scipy import interpolate\n",
    "import time\n",
    "\n",
    "tstart = time.time()\n",
    "\n",
    "# Halo Parameters\n",
    "#Nhalo = 1000000 # set to 100000000 for final run (Note large numbers will probably not even work with the original poorly written code)\n",
    "Nhalo = 1000000000\n",
    "# Map parameters\n",
    "#npix_x = 100 # set to 1000 for final run\n",
    "#npix_y = 100 # set to 1000 for final run\n",
    "#npix_z = 100 # set to 1000 for final run\n",
    "#\n",
    "npix_x = 1000\n",
    "npix_y = 1000\n",
    "npix_z = 1000\n",
    "\n",
    "fov_x = 10 # in degrees\n",
    "fov_y = 10 # in degrees\n",
    "chi_min = 0. # minimum distance\n",
    "chi_max = 3.e3 # maximum distance\n",
    "\n",
    "###\n",
    "dx_pix = fov_x/npix_x\n",
    "dy_pix = fov_y/npix_y\n",
    "dz_pix = (chi_max - chi_min)/npix_z\n",
    "\n",
    "# create empty lists \n",
    "ra_list   = [] # right ascention\n",
    "dec_list  = [] # declination\n",
    "chi_list  = [] # distance\n",
    "\n",
    "#set seed, so the random draw always returns the same set of numbers\n",
    "np.random.seed(13579)\n",
    "\n",
    "####\n",
    "#for i in range(Nhalo):\n",
    "#    rand_ra = np.random.uniform(-fov_x/2, fov_x/2)\n",
    "#    ra_list.append(rand_ra)\n",
    "#\n",
    "#for i in range(Nhalo):\n",
    "#    rand_dec = np.random.uniform(-fov_y/2, fov_y/2)\n",
    "#    dec_list.append(rand_dec)\n",
    "#    \n",
    "#for i in range(Nhalo):\n",
    "#    rand_chi = np.random.uniform(chi_min, chi_max)\n",
    "#    chi_list.append(rand_chi)\n",
    "#   \n",
    "# convert lists to numpy arrays to perform calculations\n",
    "#ra  = np.array(ra_list)\n",
    "#dec = np.array(dec_list)\n",
    "#chi = np.array(chi_list)\n",
    "\n",
    "ra = np.random.uniform(-fov_x/2, fov_x/2, Nhalo)\n",
    "dec = np.random.uniform(-fov_y/2, fov_y/2, Nhalo)\n",
    "chi = np.random.uniform(chi_min, chi_max, Nhalo)\n",
    "\n",
    "\n",
    "### \n",
    "\n",
    "# Set max and Min mass so integral converges\n",
    "Mmin  = 0.\n",
    "Mmax  = 1.e16\n",
    "Mstar = 1.e13\n",
    "\n",
    "###\n",
    "hmf_func = lambda M: M*np.exp(-M/Mstar)\n",
    "norm_pdf, err = integrate.quad(hmf_func, Mmin, Mmax)\n",
    "\n",
    "hmf_pdf = lambda x: 1./norm_pdf * x*np.exp(-x/Mstar)\n",
    "\n",
    "###\n",
    "hmf_cdf = lambda x: 1./norm_pdf * Mstar * (Mstar - (x + Mstar)*np.exp(-x/Mstar))\n",
    "\n",
    "# Make array of masses\n",
    "M = np.linspace(Mmin, Mmax, 10000)\n",
    "\n",
    "# Get CDF value at each M\n",
    "CDF_of_M = hmf_cdf(M)\n",
    "\n",
    "### \n",
    "CDF_of_M_inv = interpolate.interp1d(CDF_of_M, M)\n",
    "\n",
    "## Does drawing from this give the correct mass function?? Check \n",
    "#\n",
    "#mass_list = []\n",
    "#\n",
    "####\n",
    "#for i in range(Nhalo):\n",
    "#    rand_num_i  = np.random.uniform()\n",
    "#    rand_mass_i = CDF_of_M_inv(rand_num_i)\n",
    "#    mass_list.append(rand_mass_i)\n",
    "#\n",
    "mass = CDF_of_M_inv(np.random.uniform(size=Nhalo))\n",
    "\n",
    "####\n",
    "mass_to_luminosity = lambda x: (x/Mstar)**2.4 \n",
    "#\n",
    "#Lum_list = []\n",
    "#for i in range(len(mass)):\n",
    "#    Lum_i = mass_to_luminosity(mass[i])\n",
    "#    Lum_list.append(Lum_i)\n",
    "#\n",
    "#Lum = np.array(Lum_list)\n",
    "#Lum = mass_to_luminosity(mass)\n",
    "\n",
    "#Flux_list = []\n",
    "#for i in range(Nhalo):\n",
    "#    Flux_i = Lum[i]/4/np.pi/chi[i]**2\n",
    "#    Flux_list.append(Flux_i)\n",
    "#\n",
    "#Flux = np.array(Flux_list)\n",
    "#Flux = Lum/4/np.pi/chi**2\n",
    "#Flux = mass_to_luminosity(mass)/4/np.pi/chi**2\n",
    "\n",
    "#### \n",
    "#map_1 = np.zeros((npix_x,npix_y,npix_z))\n",
    "#for h in range(Nhalo):\n",
    "#    ra_h  = ra[h]\n",
    "#    dec_h = dec[h]\n",
    "#    chi_h = chi[h]\n",
    "#    \n",
    "#    ###\n",
    "#    pix_x_i = int( (ra_h +fov_x/2) // dx_pix )\n",
    "#    pix_y_i = int( (dec_h+fov_y/2) // dy_pix )\n",
    "#    pix_z_i = int( (chi_h        ) // dz_pix )\n",
    "#    \n",
    "#    for i in range(npix_x):\n",
    "#        if pix_x_i == i:\n",
    "#            for j in range(npix_y):\n",
    "#                if pix_y_i == j:\n",
    "#                    for k in range(npix_z):\n",
    "#                        if pix_z_i == k:\n",
    "#                            map_1[i,j,k] = map_1[i,j,k] + Flux[h]\n",
    "#map_1 = Flux.reshape(npix_x, npix_y, npix_z)\n",
    "#map_1 = (mass_to_luminosity(mass)/4/np.pi/chi**2).reshape(npix_x, npix_y, npix_z)\n",
    "\n",
    "\n",
    "###\n",
    "chi_cut = 500\n",
    "#map_sum = np.zeros((npix_x,npix_y))\n",
    "#for i in range(npix_x):\n",
    "#    for j in range(npix_y):\n",
    "#        npix_include = 0\n",
    "#        for k in range(npix_z):\n",
    "#            if k*dz_pix > chi_cut:\n",
    "#                map_sum[i,j] += map_1[i,j,k]\n",
    "#                npix_include += 1\n",
    "                \n",
    "#map_mean = np.mean(map_1[:, :, int(chi_cut / dz_pix):], axis=2)\n",
    "# Line below: basically, do everything and save memory. Randomly place masses in space and determine, \n",
    "# from the mass-luminosity function, the light that each object contributes. Then convert from 3d space \n",
    "# to a 2d sky. \n",
    "map_mean = np.mean(((mass_to_luminosity(mass)/4/np.pi/chi**2).reshape(npix_x, npix_y, npix_z))[:, :, int(chi_cut / dz_pix):], axis=2)\n",
    "#npix_include = map_sum[2]\n",
    "#map_mean = map_sum/npix_include\n",
    "\n",
    "tend = time.time()\n",
    "\n",
    "print(\"total runtime = %d seconds\" % (tend-tstart))\n",
    "\n",
    "print('done')"
   ]
  },
  {
   "cell_type": "code",
   "execution_count": 4,
   "metadata": {},
   "outputs": [
    {
     "data": {
      "image/png": "[encoded data removed]",
      "text/plain": [
       "<Figure size 432x288 with 1 Axes>"
      ]
     },
     "metadata": {
      "needs_background": "light"
     },
     "output_type": "display_data"
    },
    {
     "data": {
      "image/png": "[encoded data removed]",
      "text/plain": [
       "<Figure size 432x288 with 1 Axes>"
      ]
     },
     "metadata": {
      "needs_background": "light"
     },
     "output_type": "display_data"
    },
    {
     "name": "stdout",
     "output_type": "stream",
     "text": [
      "[[2.51895483e-04 3.03473412e-05 1.00756325e-05 ... 1.84075273e-06\n",
      "  2.18672459e-05 1.60390764e-04]\n",
      " [6.17849681e-04 3.47043385e-06 2.78485322e-06 ... 2.27477519e-04\n",
      "  9.01925591e-06 1.65930877e-05]\n",
      " [2.29261494e-06 1.60862379e-04 4.49105751e-05 ... 1.37790230e-05\n",
      "  5.09573985e-06 2.40953268e-06]\n",
      " ...\n",
      " [3.07568460e-06 2.24391662e-05 5.10098359e-01 ... 3.41106099e-05\n",
      "  4.03790578e-06 1.06419988e-06]\n",
      " [5.94081660e-06 2.39473112e-05 7.50872378e-04 ... 2.55851602e-04\n",
      "  1.50625043e-05 1.15657605e-06]\n",
      " [1.09209862e-06 4.66109068e-05 1.33667693e+00 ... 3.78759927e-05\n",
      "  3.39731282e-06 1.19175205e-04]]\n"
     ]
    },
    {
     "data": {
      "image/png": "[encoded data removed]",
      "text/plain": [
       "<Figure size 432x288 with 1 Axes>"
      ]
     },
     "metadata": {
      "needs_background": "light"
     },
     "output_type": "display_data"
    },
    {
     "data": {
      "image/png": "[encoded data removed]",
      "text/plain": [
       "<Figure size 432x288 with 1 Axes>"
      ]
     },
     "metadata": {
      "needs_background": "light"
     },
     "output_type": "display_data"
    },
    {
     "data": {
      "image/png": "[encoded data removed]",
      "text/plain": [
       "<Figure size 432x288 with 1 Axes>"
      ]
     },
     "metadata": {
      "needs_background": "light"
     },
     "output_type": "display_data"
    },
    {
     "name": "stdout",
     "output_type": "stream",
     "text": [
      "(67, 91)\n",
      "(60, 73)\n",
      "(37, 5)\n",
      "(33, 33)\n",
      "(89, 87)\n",
      "(45, 62)\n",
      "(63, 34)\n",
      "(42, 3)\n",
      "(4, 35)\n",
      "(39, 97)\n"
     ]
    }
   ],
   "source": [
    "# Analyze the map \"map_mean\"\n",
    "import matplotlib.pyplot as plt\n",
    "\n",
    "# What does this map_mean represent? Plot it. \n",
    "# represents the average intensities of the stars in a particular direction in the sky\n",
    "plt.pcolormesh(map_mean)\n",
    "plt.suptitle('mean intensities')\n",
    "plt.show()\n",
    "plt.pcolormesh(np.log(map_mean))\n",
    "plt.suptitle('log of mean intensities')\n",
    "plt.show()\n",
    "\n",
    "map_mean_flat = map_mean.flatten()\n",
    "print(map_mean)\n",
    "# Take the histogram of the pixel intensities. Plot that\n",
    "plt.hist(map_mean_flat, bins=20, histtype='bar')\n",
    "plt.suptitle('histogram of mean intensities')\n",
    "plt.show()\n",
    "\n",
    "plt.hist(map_mean_flat, bins=20, histtype='bar', range=(0, 1e-4))\n",
    "plt.suptitle('histogram of mean intensities less than $10^{-4}$')\n",
    "plt.show()\n",
    "\n",
    "plt.hist(map_mean_flat, bins=20, histtype='bar', range=(0, 2e-5))\n",
    "plt.suptitle('histogram of mean intensities less than $2 \\\\times 10^{-5}$')\n",
    "plt.show()\n",
    "\n",
    "\n",
    "# find the indices of the 10 brightest pixels. Print those out\n",
    "# let's make a copy of the data so we can cannibalise it freely\n",
    "map_mean_cp = map_mean.copy()\n",
    "for i in range(10):\n",
    "    indices = np.unravel_index(np.argmax(map_mean_cp), map_mean_cp.shape)\n",
    "    map_mean_cp[indices] = -1. \n",
    "    print(indices)"
   ]
  },
  {
   "cell_type": "code",
   "execution_count": null,
   "metadata": {},
   "outputs": [],
   "source": []
  },
  {
   "cell_type": "code",
   "execution_count": null,
   "metadata": {},
   "outputs": [],
   "source": []
  },
  {
   "cell_type": "code",
   "execution_count": null,
   "metadata": {},
   "outputs": [],
   "source": []
  }
 ],
 "metadata": {
  "kernelspec": {
   "display_name": "Python 3",
   "language": "python",
   "name": "python3"
  },
  "language_info": {
   "codemirror_mode": {
    "name": "ipython",
    "version": 3
   },
   "file_extension": ".py",
   "mimetype": "text/x-python",
   "name": "python",
   "nbconvert_exporter": "python",
   "pygments_lexer": "ipython3",
   "version": "3.5.2"
  }
 },
 "nbformat": 4,
 "nbformat_minor": 2
}
